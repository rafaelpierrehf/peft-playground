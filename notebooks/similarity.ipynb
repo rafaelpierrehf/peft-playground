{
 "cells": [
  {
   "cell_type": "code",
   "execution_count": 1,
   "metadata": {},
   "outputs": [
    {
     "data": {
      "application/vnd.jupyter.widget-view+json": {
       "model_id": "42c1f587e8e544d687867e0f3cf95518",
       "version_major": 2,
       "version_minor": 0
      },
      "text/plain": [
       "Loading checkpoint shards:   0%|          | 0/2 [00:00<?, ?it/s]"
      ]
     },
     "metadata": {},
     "output_type": "display_data"
    }
   ],
   "source": [
    "from transformers import AutoModelForCausalLM\n",
    "import torch\n",
    "\n",
    "target_model = \"mistralai/Mistral-7B-v0.1\"\n",
    "\n",
    "model = AutoModelForCausalLM.from_pretrained(\n",
    "    target_model,\n",
    "    device_map = \"cuda\",\n",
    "    torch_dtype = torch.bfloat16\n",
    ")"
   ]
  },
  {
   "cell_type": "code",
   "execution_count": 2,
   "metadata": {},
   "outputs": [
    {
     "data": {
      "text/plain": [
       "MistralDecoderLayer(\n",
       "  (self_attn): MistralSdpaAttention(\n",
       "    (q_proj): Linear(in_features=4096, out_features=4096, bias=False)\n",
       "    (k_proj): Linear(in_features=4096, out_features=1024, bias=False)\n",
       "    (v_proj): Linear(in_features=4096, out_features=1024, bias=False)\n",
       "    (o_proj): Linear(in_features=4096, out_features=4096, bias=False)\n",
       "    (rotary_emb): MistralRotaryEmbedding()\n",
       "  )\n",
       "  (mlp): MistralMLP(\n",
       "    (gate_proj): Linear(in_features=4096, out_features=14336, bias=False)\n",
       "    (up_proj): Linear(in_features=4096, out_features=14336, bias=False)\n",
       "    (down_proj): Linear(in_features=14336, out_features=4096, bias=False)\n",
       "    (act_fn): SiLU()\n",
       "  )\n",
       "  (input_layernorm): MistralRMSNorm()\n",
       "  (post_attention_layernorm): MistralRMSNorm()\n",
       ")"
      ]
     },
     "execution_count": 2,
     "metadata": {},
     "output_type": "execute_result"
    }
   ],
   "source": [
    "model.model.layers[0]"
   ]
  },
  {
   "cell_type": "markdown",
   "metadata": {},
   "source": [
    "### Analysing Model Layers"
   ]
  },
  {
   "cell_type": "code",
   "execution_count": 3,
   "metadata": {},
   "outputs": [],
   "source": [
    "from tqdm import tqdm\n",
    "from sentence_transformers.util import pytorch_cos_sim\n",
    "\n",
    "def calculate_similarities(\n",
    "    module_name_a: str = \"model.layers.{idx}.self_attn.q_proj.weight\",\n",
    "    module_name_b: str = \"model.layers.{idx}.mlp.up_proj.weight\",\n",
    "    num_layers = 32\n",
    "):\n",
    "\n",
    "    similarities = []\n",
    "    for i in tqdm(range(0, num_layers)):\n",
    "        sim = pytorch_cos_sim(\n",
    "            a = model.state_dict()[module_name_a.format(idx = i)],\n",
    "            b = model.state_dict()[module_name_b.format(idx = i)],\n",
    "        ).to(\"cpu\")\n",
    "        idx = (sim==torch.max(sim)).nonzero()[0]\n",
    "        similarities.append({\n",
    "            \"layer_n\": i,\n",
    "            \"sim\": sim[idx[0].item(), idx[1].item()],\n",
    "        })\n",
    "        del sim\n",
    "    return sorted(similarities, key = lambda item: item[\"sim\"], reverse=True)"
   ]
  },
  {
   "cell_type": "code",
   "execution_count": 4,
   "metadata": {},
   "outputs": [
    {
     "name": "stderr",
     "output_type": "stream",
     "text": [
      "100%|██████████| 32/32 [00:02<00:00, 13.77it/s]\n"
     ]
    },
    {
     "data": {
      "text/plain": [
       "[{'layer_n': 29, 'sim': tensor(0.8438, dtype=torch.bfloat16)},\n",
       " {'layer_n': 30, 'sim': tensor(0.8320, dtype=torch.bfloat16)},\n",
       " {'layer_n': 28, 'sim': tensor(0.7461, dtype=torch.bfloat16)},\n",
       " {'layer_n': 12, 'sim': tensor(0.6562, dtype=torch.bfloat16)},\n",
       " {'layer_n': 9, 'sim': tensor(0.6406, dtype=torch.bfloat16)},\n",
       " {'layer_n': 16, 'sim': tensor(0.6367, dtype=torch.bfloat16)},\n",
       " {'layer_n': 31, 'sim': tensor(0.6328, dtype=torch.bfloat16)},\n",
       " {'layer_n': 20, 'sim': tensor(0.6211, dtype=torch.bfloat16)},\n",
       " {'layer_n': 11, 'sim': tensor(0.5820, dtype=torch.bfloat16)},\n",
       " {'layer_n': 14, 'sim': tensor(0.5781, dtype=torch.bfloat16)},\n",
       " {'layer_n': 1, 'sim': tensor(0.5625, dtype=torch.bfloat16)},\n",
       " {'layer_n': 7, 'sim': tensor(0.5586, dtype=torch.bfloat16)},\n",
       " {'layer_n': 5, 'sim': tensor(0.5312, dtype=torch.bfloat16)},\n",
       " {'layer_n': 27, 'sim': tensor(0.5273, dtype=torch.bfloat16)},\n",
       " {'layer_n': 26, 'sim': tensor(0.5117, dtype=torch.bfloat16)},\n",
       " {'layer_n': 24, 'sim': tensor(0.5039, dtype=torch.bfloat16)},\n",
       " {'layer_n': 22, 'sim': tensor(0.4941, dtype=torch.bfloat16)},\n",
       " {'layer_n': 25, 'sim': tensor(0.4824, dtype=torch.bfloat16)},\n",
       " {'layer_n': 0, 'sim': tensor(0.4766, dtype=torch.bfloat16)},\n",
       " {'layer_n': 19, 'sim': tensor(0.4629, dtype=torch.bfloat16)},\n",
       " {'layer_n': 2, 'sim': tensor(0.4609, dtype=torch.bfloat16)},\n",
       " {'layer_n': 4, 'sim': tensor(0.4531, dtype=torch.bfloat16)},\n",
       " {'layer_n': 23, 'sim': tensor(0.4492, dtype=torch.bfloat16)},\n",
       " {'layer_n': 21, 'sim': tensor(0.4453, dtype=torch.bfloat16)},\n",
       " {'layer_n': 18, 'sim': tensor(0.4434, dtype=torch.bfloat16)},\n",
       " {'layer_n': 6, 'sim': tensor(0.4316, dtype=torch.bfloat16)},\n",
       " {'layer_n': 17, 'sim': tensor(0.4297, dtype=torch.bfloat16)},\n",
       " {'layer_n': 8, 'sim': tensor(0.4277, dtype=torch.bfloat16)},\n",
       " {'layer_n': 15, 'sim': tensor(0.4141, dtype=torch.bfloat16)},\n",
       " {'layer_n': 3, 'sim': tensor(0.4062, dtype=torch.bfloat16)},\n",
       " {'layer_n': 10, 'sim': tensor(0.3926, dtype=torch.bfloat16)},\n",
       " {'layer_n': 13, 'sim': tensor(0.3633, dtype=torch.bfloat16)}]"
      ]
     },
     "execution_count": 4,
     "metadata": {},
     "output_type": "execute_result"
    }
   ],
   "source": [
    "similarities = calculate_similarities()\n",
    "similarities"
   ]
  },
  {
   "cell_type": "markdown",
   "metadata": {},
   "source": [
    "## Testing"
   ]
  },
  {
   "cell_type": "code",
   "execution_count": 3,
   "metadata": {},
   "outputs": [
    {
     "name": "stderr",
     "output_type": "stream",
     "text": [
      "/home/ubuntu/.cache/pypoetry/virtualenvs/llmin-WyFAvJN6-py3.11/lib/python3.11/site-packages/transformers/generation/configuration_utils.py:492: UserWarning: `do_sample` is set to `False`. However, `temperature` is set to `0.1` -- this flag is only used in sample-based generation modes. You should set `do_sample=True` or unset `temperature`.\n",
      "  warnings.warn(\n",
      "/home/ubuntu/.cache/pypoetry/virtualenvs/llmin-WyFAvJN6-py3.11/lib/python3.11/site-packages/transformers/generation/configuration_utils.py:497: UserWarning: `do_sample` is set to `False`. However, `top_p` is set to `0.95` -- this flag is only used in sample-based generation modes. You should set `do_sample=True` or unset `top_p`.\n",
      "  warnings.warn(\n",
      "/home/ubuntu/.cache/pypoetry/virtualenvs/llmin-WyFAvJN6-py3.11/lib/python3.11/site-packages/transformers/generation/configuration_utils.py:509: UserWarning: `do_sample` is set to `False`. However, `top_k` is set to `10` -- this flag is only used in sample-based generation modes. You should set `do_sample=True` or unset `top_k`.\n",
      "  warnings.warn(\n",
      "Setting `pad_token_id` to `eos_token_id`:2 for open-end generation.\n"
     ]
    },
    {
     "data": {
      "text/plain": [
       "[{'generated_text': \"What's ML?\\n\\nMachine learning is a subset of artificial intelligence that focuses on the development of computer programs that can access data and use it to learn for themselves.\\n\\nMachine learning is a subset of artificial intelligence that focuses on the development of computer programs that can access data and use it to learn for themselves.\\n\\nMachine learning is a subset of artificial intelligence that focuses on the development of computer programs that can access data and use it to learn for themselves.\\n\\nMachine learning is a subset of artificial intelligence\"}]"
      ]
     },
     "execution_count": 3,
     "metadata": {},
     "output_type": "execute_result"
    }
   ],
   "source": [
    "from transformers import pipeline, AutoTokenizer\n",
    "\n",
    "pipe = pipeline(\n",
    "    \"text-generation\",\n",
    "    model = model,\n",
    "    tokenizer = AutoTokenizer.from_pretrained(target_model)\n",
    ")\n",
    "\n",
    "pipe(\"What's ML?\", top_p = 0.95, top_k = 10, temperature = 0.1, max_new_tokens = 100)"
   ]
  },
  {
   "cell_type": "markdown",
   "metadata": {},
   "source": [
    "## Reducing Model & Serializing"
   ]
  },
  {
   "cell_type": "code",
   "execution_count": 4,
   "metadata": {},
   "outputs": [],
   "source": [
    "import torch\n",
    "import copy\n",
    "\n",
    "model_reduced = copy.deepcopy(model.to(\"cpu\"))\n",
    "del model"
   ]
  },
  {
   "cell_type": "code",
   "execution_count": 5,
   "metadata": {},
   "outputs": [],
   "source": [
    "torch.cuda.empty_cache()"
   ]
  },
  {
   "cell_type": "code",
   "execution_count": 6,
   "metadata": {},
   "outputs": [
    {
     "data": {
      "text/plain": [
       "ModuleList(\n",
       "  (0-31): 32 x MistralDecoderLayer(\n",
       "    (self_attn): MistralSdpaAttention(\n",
       "      (q_proj): Linear(in_features=4096, out_features=4096, bias=False)\n",
       "      (k_proj): Linear(in_features=4096, out_features=1024, bias=False)\n",
       "      (v_proj): Linear(in_features=4096, out_features=1024, bias=False)\n",
       "      (o_proj): Linear(in_features=4096, out_features=4096, bias=False)\n",
       "      (rotary_emb): MistralRotaryEmbedding()\n",
       "    )\n",
       "    (mlp): MistralMLP(\n",
       "      (gate_proj): Linear(in_features=4096, out_features=14336, bias=False)\n",
       "      (up_proj): Linear(in_features=4096, out_features=14336, bias=False)\n",
       "      (down_proj): Linear(in_features=14336, out_features=4096, bias=False)\n",
       "      (act_fn): SiLU()\n",
       "    )\n",
       "    (input_layernorm): MistralRMSNorm()\n",
       "    (post_attention_layernorm): MistralRMSNorm()\n",
       "  )\n",
       ")"
      ]
     },
     "execution_count": 6,
     "metadata": {},
     "output_type": "execute_result"
    }
   ],
   "source": [
    "del model_reduced.model.layers[31]\n",
    "model_reduced.model.layers.append(model_reduced.model.layers[30])"
   ]
  },
  {
   "cell_type": "code",
   "execution_count": 7,
   "metadata": {},
   "outputs": [
    {
     "data": {
      "text/plain": [
       "MistralForCausalLM(\n",
       "  (model): MistralModel(\n",
       "    (embed_tokens): Embedding(32000, 4096)\n",
       "    (layers): ModuleList(\n",
       "      (0-31): 32 x MistralDecoderLayer(\n",
       "        (self_attn): MistralSdpaAttention(\n",
       "          (q_proj): Linear(in_features=4096, out_features=4096, bias=False)\n",
       "          (k_proj): Linear(in_features=4096, out_features=1024, bias=False)\n",
       "          (v_proj): Linear(in_features=4096, out_features=1024, bias=False)\n",
       "          (o_proj): Linear(in_features=4096, out_features=4096, bias=False)\n",
       "          (rotary_emb): MistralRotaryEmbedding()\n",
       "        )\n",
       "        (mlp): MistralMLP(\n",
       "          (gate_proj): Linear(in_features=4096, out_features=14336, bias=False)\n",
       "          (up_proj): Linear(in_features=4096, out_features=14336, bias=False)\n",
       "          (down_proj): Linear(in_features=14336, out_features=4096, bias=False)\n",
       "          (act_fn): SiLU()\n",
       "        )\n",
       "        (input_layernorm): MistralRMSNorm()\n",
       "        (post_attention_layernorm): MistralRMSNorm()\n",
       "      )\n",
       "    )\n",
       "    (norm): MistralRMSNorm()\n",
       "  )\n",
       "  (lm_head): Linear(in_features=4096, out_features=32000, bias=False)\n",
       ")"
      ]
     },
     "execution_count": 7,
     "metadata": {},
     "output_type": "execute_result"
    }
   ],
   "source": [
    "model_reduced.to(\"cuda\")"
   ]
  },
  {
   "cell_type": "code",
   "execution_count": 8,
   "metadata": {},
   "outputs": [],
   "source": [
    "torch.cuda.empty_cache()"
   ]
  },
  {
   "cell_type": "code",
   "execution_count": 16,
   "metadata": {},
   "outputs": [
    {
     "name": "stderr",
     "output_type": "stream",
     "text": [
      "/home/ubuntu/.cache/pypoetry/virtualenvs/llmin-WyFAvJN6-py3.11/lib/python3.11/site-packages/transformers/generation/configuration_utils.py:492: UserWarning: `do_sample` is set to `False`. However, `temperature` is set to `0.1` -- this flag is only used in sample-based generation modes. You should set `do_sample=True` or unset `temperature`.\n",
      "  warnings.warn(\n",
      "/home/ubuntu/.cache/pypoetry/virtualenvs/llmin-WyFAvJN6-py3.11/lib/python3.11/site-packages/transformers/generation/configuration_utils.py:497: UserWarning: `do_sample` is set to `False`. However, `top_p` is set to `0.99` -- this flag is only used in sample-based generation modes. You should set `do_sample=True` or unset `top_p`.\n",
      "  warnings.warn(\n",
      "Setting `pad_token_id` to `eos_token_id`:2 for open-end generation.\n"
     ]
    },
    {
     "data": {
      "text/plain": [
       "[{'generated_text': \"\\nUser 0: It's a way to make computers do things that they don't know how to do yet.\\nUser 1: That's a good start. But you can do better.\\nUser 0: I can do better? I don't know how to do better.\\nUser 1: You can do better. You can do better than that.\\nUser 0: I can do better than that? I don't know how to\"}]"
      ]
     },
     "execution_count": 16,
     "metadata": {},
     "output_type": "execute_result"
    }
   ],
   "source": [
    "from transformers import pipeline, AutoTokenizer\n",
    "\n",
    "pipe = pipeline(\n",
    "    \"text-generation\",\n",
    "    model = model_reduced,\n",
    "    tokenizer = AutoTokenizer.from_pretrained(target_model)\n",
    ")\n",
    "\n",
    "pipe(\n",
    "    \"You are a helpful assistant. Answer the question below in an informative and truthful way: \\nWhat's Machine Learning?\",\n",
    "    top_p = 0.99,\n",
    "    temperature = 0.1,\n",
    "    max_new_tokens = 100,\n",
    "    num_return_sequences = 1,\n",
    "    return_full_text = False\n",
    ")\n"
   ]
  },
  {
   "cell_type": "code",
   "execution_count": 36,
   "metadata": {},
   "outputs": [
    {
     "data": {
      "text/plain": [
       "MistralForCausalLM(\n",
       "  (model): MistralModel(\n",
       "    (embed_tokens): Embedding(32000, 4096)\n",
       "    (layers): ModuleList(\n",
       "      (0-30): 31 x MistralDecoderLayer(\n",
       "        (self_attn): MistralSdpaAttention(\n",
       "          (q_proj): Linear(in_features=4096, out_features=4096, bias=False)\n",
       "          (k_proj): Linear(in_features=4096, out_features=1024, bias=False)\n",
       "          (v_proj): Linear(in_features=4096, out_features=1024, bias=False)\n",
       "          (o_proj): Linear(in_features=4096, out_features=4096, bias=False)\n",
       "          (rotary_emb): MistralRotaryEmbedding()\n",
       "        )\n",
       "        (mlp): MistralMLP(\n",
       "          (gate_proj): Linear(in_features=4096, out_features=14336, bias=False)\n",
       "          (up_proj): Linear(in_features=4096, out_features=14336, bias=False)\n",
       "          (down_proj): Linear(in_features=14336, out_features=4096, bias=False)\n",
       "          (act_fn): SiLU()\n",
       "        )\n",
       "        (input_layernorm): MistralRMSNorm()\n",
       "        (post_attention_layernorm): MistralRMSNorm()\n",
       "      )\n",
       "    )\n",
       "    (norm): MistralRMSNorm()\n",
       "  )\n",
       "  (lm_head): Linear(in_features=4096, out_features=32000, bias=False)\n",
       ")"
      ]
     },
     "execution_count": 36,
     "metadata": {},
     "output_type": "execute_result"
    }
   ],
   "source": [
    "model_reduced"
   ]
  },
  {
   "cell_type": "code",
   "execution_count": null,
   "metadata": {},
   "outputs": [],
   "source": [
    "import torch\n",
    "from transformers import AutoTokenizer, AutoModelForCausalLM, BitsAndBytesConfig\n",
    "\n",
    "bnb_config = BitsAndBytesConfig(\n",
    "    load_in_4bit=True,\n",
    "    bnb_4bit_use_double_quant=True,\n",
    "    bnb_4bit_quant_type=\"nf4\",\n",
    "    bnb_4bit_compute_dtype=torch.bfloat16\n",
    ")\n",
    "\n",
    "model = AutoModelForCausalLM.from_pretrained(base_model_id, quantization_config=bnb_config)"
   ]
  }
 ],
 "metadata": {
  "kernelspec": {
   "display_name": "llmin-WyFAvJN6-py3.11",
   "language": "python",
   "name": "python3"
  },
  "language_info": {
   "codemirror_mode": {
    "name": "ipython",
    "version": 3
   },
   "file_extension": ".py",
   "mimetype": "text/x-python",
   "name": "python",
   "nbconvert_exporter": "python",
   "pygments_lexer": "ipython3",
   "version": "3.11.8"
  }
 },
 "nbformat": 4,
 "nbformat_minor": 2
}
