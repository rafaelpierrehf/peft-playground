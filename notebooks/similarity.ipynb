{
 "cells": [
  {
   "cell_type": "code",
   "execution_count": null,
   "metadata": {},
   "outputs": [],
   "source": [
    "from transformers import AutoModelForCausalLM\n",
    "import torch\n",
    "\n",
    "target_model = \"mistralai/Mistral-7B-Instruct-v0.1\"\n",
    "\n",
    "model = AutoModelForCausalLM.from_pretrained(\n",
    "    target_model,\n",
    "    device_map = \"cuda:1\",\n",
    "    torch_dtype = torch.bfloat16\n",
    ")"
   ]
  },
  {
   "cell_type": "code",
   "execution_count": null,
   "metadata": {},
   "outputs": [],
   "source": [
    "model.model.layers[0]"
   ]
  },
  {
   "cell_type": "markdown",
   "metadata": {},
   "source": [
    "### Analysing Model Layers"
   ]
  },
  {
   "cell_type": "code",
   "execution_count": null,
   "metadata": {},
   "outputs": [],
   "source": [
    "from tqdm import tqdm\n",
    "from sentence_transformers.util import pytorch_cos_sim\n",
    "\n",
    "def calculate_similarities(\n",
    "    module_name_a: str = \"model.layers.{idx}.self_attn.q_proj.weight\",\n",
    "    module_name_b: str = \"model.layers.{idx}.mlp.down_proj.weight\",\n",
    "    num_layers = 32\n",
    "):\n",
    "\n",
    "    similarities = []\n",
    "    for i in tqdm(range(0, num_layers)):\n",
    "        sim = pytorch_cos_sim(\n",
    "            a = model.state_dict()[module_name_a.format(idx = i)],\n",
    "            b = model.state_dict()[module_name_b.format(idx = i)],\n",
    "        ).to(\"cpu\")\n",
    "        idx = (sim==torch.max(sim)).nonzero()[0]\n",
    "        similarities.append({\n",
    "            \"layer_n\": i,\n",
    "            \"sim\": sim[idx[0].item(), idx[1].item()],\n",
    "        })\n",
    "        del sim\n",
    "    return sorted(similarities, key = lambda item: item[\"sim\"], reverse=True)"
   ]
  },
  {
   "cell_type": "code",
   "execution_count": null,
   "metadata": {},
   "outputs": [],
   "source": [
    "similarities = calculate_similarities()\n",
    "similarities"
   ]
  },
  {
   "cell_type": "markdown",
   "metadata": {},
   "source": [
    "## Testing"
   ]
  },
  {
   "cell_type": "code",
   "execution_count": null,
   "metadata": {},
   "outputs": [],
   "source": [
    "from transformers import pipeline, AutoTokenizer\n",
    "\n",
    "pipe = pipeline(\n",
    "    \"text-generation\",\n",
    "    model = model,\n",
    "    tokenizer = AutoTokenizer.from_pretrained(target_model)\n",
    ")\n",
    "\n",
    "pipe(\"What's ML?\", top_p = 0.95, top_k = 10, temperature = 0.1, max_new_tokens = 100)"
   ]
  },
  {
   "cell_type": "markdown",
   "metadata": {},
   "source": [
    "## Reducing Model & Serializing"
   ]
  },
  {
   "cell_type": "code",
   "execution_count": null,
   "metadata": {},
   "outputs": [],
   "source": [
    "import torch\n",
    "import copy\n",
    "\n",
    "model_reduced = copy.deepcopy(model.to(\"cpu\"))"
   ]
  },
  {
   "cell_type": "code",
   "execution_count": null,
   "metadata": {},
   "outputs": [],
   "source": [
    "torch.cuda.empty_cache()"
   ]
  },
  {
   "cell_type": "code",
   "execution_count": null,
   "metadata": {},
   "outputs": [],
   "source": []
  },
  {
   "cell_type": "code",
   "execution_count": null,
   "metadata": {},
   "outputs": [],
   "source": [
    "from peft.tuners.tuners_utils import replicate_layers\n",
    "\n",
    "model = copy.deepcopy(model_reduced)\n",
    "\n",
    "layer_map = [\n",
    "    [0, 8],\n",
    "    [13, 14],\n",
    "    [10, 12],\n",
    "    [13, 16],\n",
    "    [13, 14],\n",
    "    [14, 28],\n",
    "    [13, 14],\n",
    "    [13, 14],\n",
    "    [30, 32]\n",
    "]\n",
    "\n",
    "replicate_layers(model = model_reduced,layer_map = layer_map)\n",
    "model_reduced"
   ]
  },
  {
   "cell_type": "code",
   "execution_count": null,
   "metadata": {},
   "outputs": [],
   "source": [
    "from peft.tuners.tuners_utils import replicate_layers\n",
    "\n",
    "def compress(target_model, base_model_num_layers = 16):\n",
    "\n",
    "        original_layers = [0, base_model_num_layers]\n",
    "        additional_layers = [[base_model_num_layers - 1, base_model_num_layers]] * base_model_num_layers\n",
    "        layer_map = [original_layers]\n",
    "        layer_map.extend(additional_layers)\n",
    "        replicate_layers(model = target_model,layer_map = layer_map)\n",
    "\n",
    "        return target_model"
   ]
  },
  {
   "cell_type": "code",
   "execution_count": null,
   "metadata": {},
   "outputs": [],
   "source": [
    "model_reduced.to(\"cuda\")"
   ]
  },
  {
   "cell_type": "code",
   "execution_count": null,
   "metadata": {},
   "outputs": [],
   "source": [
    "torch.cuda.empty_cache()"
   ]
  },
  {
   "cell_type": "code",
   "execution_count": null,
   "metadata": {},
   "outputs": [],
   "source": [
    "from transformers import pipeline, AutoTokenizer\n",
    "\n",
    "pipe = pipeline(\n",
    "    \"text-generation\",\n",
    "    model = model_reduced,\n",
    "    tokenizer = AutoTokenizer.from_pretrained(target_model)\n",
    ")\n",
    "\n",
    "pipe(\n",
    "    \"You are a helpful assistant. Answer the question below in an informative and truthful way: \\nWhat's Machine Learning?\",\n",
    "    do_sample = False,\n",
    "    return_full_text = False,\n",
    "    max_new_tokens = 100\n",
    ")\n"
   ]
  },
  {
   "cell_type": "code",
   "execution_count": null,
   "metadata": {},
   "outputs": [],
   "source": [
    "model_reduced.save_pretrained(\"models/reduced\")"
   ]
  },
  {
   "cell_type": "code",
   "execution_count": null,
   "metadata": {},
   "outputs": [],
   "source": [
    "del model_reduced"
   ]
  },
  {
   "cell_type": "code",
   "execution_count": null,
   "metadata": {},
   "outputs": [],
   "source": [
    "model_reduced = AutoModelForCausalLM.from_pretrained(\"models/reduced\")"
   ]
  },
  {
   "cell_type": "code",
   "execution_count": null,
   "metadata": {},
   "outputs": [],
   "source": []
  },
  {
   "cell_type": "code",
   "execution_count": null,
   "metadata": {},
   "outputs": [],
   "source": []
  }
 ],
 "metadata": {
  "kernelspec": {
   "display_name": "llmin-WyFAvJN6-py3.11",
   "language": "python",
   "name": "python3"
  },
  "language_info": {
   "codemirror_mode": {
    "name": "ipython",
    "version": 3
   },
   "file_extension": ".py",
   "mimetype": "text/x-python",
   "name": "python",
   "nbconvert_exporter": "python",
   "pygments_lexer": "ipython3",
   "version": "3.11.8"
  }
 },
 "nbformat": 4,
 "nbformat_minor": 2
}
