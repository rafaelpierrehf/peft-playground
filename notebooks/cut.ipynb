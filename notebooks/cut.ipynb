{
 "cells": [
  {
   "cell_type": "code",
   "execution_count": null,
   "metadata": {},
   "outputs": [],
   "source": [
    "from transformers import AutoConfig\n",
    "from peft import LoraConfig\n",
    "from trl import AutoModelForCausalLMWithValueHead\n",
    "from transformers import AutoModelForCausalLM\n",
    "import torch\n",
    "\n",
    "model_id = \"mistralai/Mistral-7B-v0.1\"\n",
    "\n",
    "model = AutoModelForCausalLM.from_pretrained(\n",
    "    model_id,\n",
    "    device_map = \"auto\",\n",
    "    torch_dtype = torch.bfloat16\n",
    ")\n"
   ]
  },
  {
   "cell_type": "code",
   "execution_count": null,
   "metadata": {},
   "outputs": [],
   "source": [
    "from peft.tuners.tuners_utils import replicate_layers\n",
    "\n",
    "def compress(target_model, base_model_num_layers = 16):\n",
    "\n",
    "        original_layers = [0, base_model_num_layers]\n",
    "        additional_layers = [[base_model_num_layers - 1, base_model_num_layers]] * base_model_num_layers\n",
    "        layer_map = [original_layers]\n",
    "        layer_map.extend(additional_layers)\n",
    "\n",
    "        replicate_layers(model = target_model,layer_map = layer_map)\n",
    "        \n",
    "        return target_model"
   ]
  },
  {
   "cell_type": "code",
   "execution_count": null,
   "metadata": {},
   "outputs": [],
   "source": [
    "compressed = compress(target_model = model)"
   ]
  },
  {
   "cell_type": "code",
   "execution_count": null,
   "metadata": {},
   "outputs": [],
   "source": [
    "import torch\n",
    "\n",
    "torch.cuda.empty_cache()"
   ]
  },
  {
   "cell_type": "code",
   "execution_count": null,
   "metadata": {},
   "outputs": [],
   "source": [
    "lora_config = LoraConfig(\n",
    "    r=16,\n",
    "    lora_alpha=32,\n",
    "    lora_dropout=0.05,\n",
    "    bias=\"none\",\n",
    "    task_type=\"CAUSAL_LM\",\n",
    ")"
   ]
  },
  {
   "cell_type": "code",
   "execution_count": null,
   "metadata": {},
   "outputs": [],
   "source": [
    "from transformers import TrainingArguments, AutoTokenizer\n",
    "from datasets import load_dataset\n",
    "from trl import SFTTrainer\n",
    "\n",
    "dataset = load_dataset(\"mhenrichsen/alpaca_2k_test\")\n",
    "tokenizer = AutoTokenizer.from_pretrained(model_id)\n",
    "\n",
    "def prepare_dialogue(example):\n",
    "    text = \"\"\n",
    "    for idx, msg in enumerate(example[\"text\"]):\n",
    "        if idx % 2 == 0:\n",
    "            text += f\"<|user|>\\n{msg}{tokenizer.eos_token}\\n\"\n",
    "        else:\n",
    "            text += f\"<|assistant|>\\n{msg}{tokenizer.eos_token}\\n\"\n",
    "    example[\"text\"] = text\n",
    "    return example\n",
    "\n",
    "dataset = dataset[\"train\"].train_test_split(test_size=0.1)\n",
    "dataset = dataset.map(prepare_dialogue, num_proc=4, remove_columns=[\"input\", \"output\"])"
   ]
  },
  {
   "cell_type": "code",
   "execution_count": null,
   "metadata": {},
   "outputs": [],
   "source": [
    "args = TrainingArguments(\n",
    "    max_steps = 150,\n",
    "    output_dir = \"models/mini\",\n",
    "    per_device_train_batch_size = 1,\n",
    "    per_device_eval_batch_size = 1,\n",
    "    logging_steps = 30,\n",
    "    eval_steps = 100,\n",
    "    evaluation_strategy = \"steps\"\n",
    ")\n",
    "\n",
    "trainer = SFTTrainer(\n",
    "    args = args,\n",
    "    model = compressed,\n",
    "    train_dataset=dataset[\"train\"],\n",
    "    eval_dataset=dataset[\"test\"],\n",
    "    dataset_text_field=\"text\",\n",
    "    max_seq_length=512,\n",
    "    peft_config = lora_config\n",
    ")\n",
    "trainer.train()"
   ]
  },
  {
   "cell_type": "code",
   "execution_count": null,
   "metadata": {},
   "outputs": [],
   "source": [
    "compressed"
   ]
  },
  {
   "cell_type": "code",
   "execution_count": null,
   "metadata": {},
   "outputs": [],
   "source": [
    "merged = trainer.model.merge_and_unload()"
   ]
  },
  {
   "cell_type": "code",
   "execution_count": null,
   "metadata": {},
   "outputs": [],
   "source": [
    "from transformers import pipeline\n",
    "\n",
    "pipe = pipeline(\n",
    "    \"text-generation\",\n",
    "    model = merged,\n",
    "    tokenizer = tokenizer\n",
    ")"
   ]
  },
  {
   "cell_type": "code",
   "execution_count": null,
   "metadata": {},
   "outputs": [],
   "source": [
    "text = \"\"\"<|user|>\n",
    "You are a helpful assistant. Please answer the question below in a truthful way: {question}\n",
    "<|assistant>\n",
    "\"\"\"\n",
    "\n",
    "pipe(text.format(question = \"What's ML?\"), top_p = 0.95, top_k = 20, temperature = 0.1, max_new_tokens = 100)"
   ]
  },
  {
   "cell_type": "code",
   "execution_count": null,
   "metadata": {},
   "outputs": [],
   "source": []
  }
 ],
 "metadata": {
  "kernelspec": {
   "display_name": "llmin-WyFAvJN6-py3.11",
   "language": "python",
   "name": "python3"
  },
  "language_info": {
   "codemirror_mode": {
    "name": "ipython",
    "version": 3
   },
   "file_extension": ".py",
   "mimetype": "text/x-python",
   "name": "python",
   "nbconvert_exporter": "python",
   "pygments_lexer": "ipython3",
   "version": "3.11.8"
  }
 },
 "nbformat": 4,
 "nbformat_minor": 2
}
